{
 "cells": [
  {
   "cell_type": "code",
   "execution_count": 1,
   "metadata": {},
   "outputs": [
    {
     "data": {
      "text/plain": [
       "0.8"
      ]
     },
     "execution_count": 1,
     "metadata": {},
     "output_type": "execute_result"
    }
   ],
   "source": [
    "4/5\n"
   ]
  },
  {
   "cell_type": "code",
   "execution_count": 2,
   "metadata": {},
   "outputs": [
    {
     "data": {
      "text/plain": [
       "5"
      ]
     },
     "execution_count": 2,
     "metadata": {},
     "output_type": "execute_result"
    }
   ],
   "source": [
    "25//5\n"
   ]
  },
  {
   "cell_type": "code",
   "execution_count": 3,
   "metadata": {},
   "outputs": [
    {
     "data": {
      "text/plain": [
       "5.0"
      ]
     },
     "execution_count": 3,
     "metadata": {},
     "output_type": "execute_result"
    }
   ],
   "source": [
    "25/5"
   ]
  },
  {
   "cell_type": "code",
   "execution_count": 4,
   "metadata": {},
   "outputs": [
    {
     "data": {
      "text/plain": [
       "32"
      ]
     },
     "execution_count": 4,
     "metadata": {},
     "output_type": "execute_result"
    }
   ],
   "source": [
    "2**5\n"
   ]
  },
  {
   "cell_type": "code",
   "execution_count": 5,
   "metadata": {},
   "outputs": [
    {
     "data": {
      "text/plain": [
       "True"
      ]
     },
     "execution_count": 5,
     "metadata": {},
     "output_type": "execute_result"
    }
   ],
   "source": [
    "# Membership operators --> in, not in\n",
    "str1 = \"abc wxyz\"\n",
    "'w' in str1"
   ]
  },
  {
   "cell_type": "code",
   "execution_count": 6,
   "metadata": {},
   "outputs": [
    {
     "data": {
      "text/plain": [
       "True"
      ]
     },
     "execution_count": 6,
     "metadata": {},
     "output_type": "execute_result"
    }
   ],
   "source": [
    "'B' not in str1\n"
   ]
  },
  {
   "cell_type": "code",
   "execution_count": 7,
   "metadata": {},
   "outputs": [
    {
     "data": {
      "text/plain": [
       "False"
      ]
     },
     "execution_count": 7,
     "metadata": {},
     "output_type": "execute_result"
    }
   ],
   "source": [
    "# identity operator --> is, is not\n",
    "x = 10\n",
    "y = 20\n",
    "x is y"
   ]
  },
  {
   "cell_type": "code",
   "execution_count": 8,
   "metadata": {},
   "outputs": [
    {
     "name": "stdout",
     "output_type": "stream",
     "text": [
      "140720637715120 140720637715440\n"
     ]
    }
   ],
   "source": [
    "print(id(x),id(y))"
   ]
  },
  {
   "cell_type": "code",
   "execution_count": 10,
   "metadata": {},
   "outputs": [
    {
     "name": "stdout",
     "output_type": "stream",
     "text": [
      "x>y\n"
     ]
    }
   ],
   "source": [
    "x = 30\n",
    "y = 20\n",
    "print(\"x<y\") if x<y else print(\"x>y\")"
   ]
  },
  {
   "cell_type": "code",
   "execution_count": 11,
   "metadata": {},
   "outputs": [
    {
     "name": "stdout",
     "output_type": "stream",
     "text": [
      "x>y\n"
     ]
    }
   ],
   "source": [
    "if x<y :\n",
    "    print(\"x<y\")\n",
    "else :\n",
    "    print(\"x>y\")"
   ]
  },
  {
   "cell_type": "code",
   "execution_count": 18,
   "metadata": {},
   "outputs": [],
   "source": [
    "a = 70\n",
    "b = 100\n",
    "c = 30\n"
   ]
  },
  {
   "cell_type": "code",
   "execution_count": 19,
   "metadata": {},
   "outputs": [
    {
     "name": "stdout",
     "output_type": "stream",
     "text": [
      "b is Max\n"
     ]
    }
   ],
   "source": [
    "(print(\"a is max\")if a>c else print(\"c is max\")) if a>b else ( print(\"b is Max\") if b>c else print(\"c is Max\"))"
   ]
  },
  {
   "cell_type": "code",
   "execution_count": 22,
   "metadata": {},
   "outputs": [
    {
     "name": "stdout",
     "output_type": "stream",
     "text": [
      "Enter a number20\n",
      "Positive\n"
     ]
    }
   ],
   "source": [
    "# accept a number as INPUT and check whethe it is positive or negative or zero\n",
    "num = int(input(\"Enter a number\"))\n",
    "if num>0:\n",
    "    print(\"Positive\")\n",
    "elif num<0:\n",
    "    print(\"Negative\")\n",
    "else:\n",
    "    print(\"Zero\")"
   ]
  },
  {
   "cell_type": "code",
   "execution_count": 25,
   "metadata": {},
   "outputs": [
    {
     "name": "stdout",
     "output_type": "stream",
     "text": [
      "Enter a Number 18\n",
      "18\n"
     ]
    }
   ],
   "source": [
    "# the number is divisible 2 and 3 but not 4\n",
    "n = int(input(\"Enter a Number \"))\n",
    "if n%2 == 0 and n%3 == 0 and n%4!=0:\n",
    "    print(n)\n",
    "else:\n",
    "    print(\"Not a required number\")"
   ]
  },
  {
   "cell_type": "code",
   "execution_count": 27,
   "metadata": {},
   "outputs": [
    {
     "name": "stdout",
     "output_type": "stream",
     "text": [
      "Enter Marks of subject 1 45\n",
      "Enter Marks of subject 2 50\n",
      "Enter Marks of subject 3 70\n",
      "C\n"
     ]
    }
   ],
   "source": [
    "# accept three sub marks of the student if he gets greater than 30 marks in all three subjects go for avg \n",
    "#if avg >75 --> A avg>65 and avg<75 --> B avg>50 and avg<60 -->C avg<30 and avg<50 -->D else Fail\n",
    "# if he gets less than 30 any of the subjects print FAIL\n",
    "sub1 = int(input(\"Enter Marks of subject 1 \"))\n",
    "sub2 = int(input(\"Enter Marks of subject 2 \"))\n",
    "sub3 = int(input(\"Enter Marks of subject 3 \"))\n",
    "avg = 0\n",
    "if sub1>30 and sub2>30 and sub3>30:\n",
    "    avg = (sub1 + sub2 + sub3)//3\n",
    "    if avg>75:\n",
    "        print(\"A\")\n",
    "    elif avg>65 and avg<75:\n",
    "        print(\"B\")\n",
    "    elif avg>50 and avg<65:\n",
    "        print(\"C\")\n",
    "    elif avg>30 and avg<50:\n",
    "        print(\"D\")\n",
    "    else:\n",
    "        print(\"FAIL\")\n",
    "else:\n",
    "    print(\"FAIL\")"
   ]
  },
  {
   "cell_type": "code",
   "execution_count": 29,
   "metadata": {},
   "outputs": [
    {
     "name": "stdout",
     "output_type": "stream",
     "text": [
      "2 5 87\n",
      "2 5 87\n"
     ]
    }
   ],
   "source": [
    "m, n, o = map(int, input().split())\n",
    "print(m,n,o)"
   ]
  },
  {
   "cell_type": "code",
   "execution_count": 31,
   "metadata": {},
   "outputs": [
    {
     "name": "stdout",
     "output_type": "stream",
     "text": [
      "28\n",
      "406\n"
     ]
    }
   ],
   "source": [
    "# Loops\n",
    "i = 1\n",
    "sum =0\n",
    "n = int(input())\n",
    "while i<=n:\n",
    "    sum += i\n",
    "    i += 1\n",
    "print(sum)"
   ]
  },
  {
   "cell_type": "code",
   "execution_count": 32,
   "metadata": {},
   "outputs": [
    {
     "name": "stdout",
     "output_type": "stream",
     "text": [
      "10\n",
      "30\n"
     ]
    }
   ],
   "source": [
    "# Even numbers sum\n",
    "i = 1\n",
    "n = int(input())\n",
    "sum = 0\n",
    "while i<=n:\n",
    "    if i%2 == 0:\n",
    "        sum += i\n",
    "    i += 1\n",
    "print(sum)"
   ]
  },
  {
   "cell_type": "code",
   "execution_count": 2,
   "metadata": {
    "scrolled": true
   },
   "outputs": [
    {
     "name": "stdout",
     "output_type": "stream",
     "text": [
      "145\n",
      "541\n"
     ]
    }
   ],
   "source": [
    "# print digits of given number in reverse order\n",
    "n = int(input())\n",
    "rev = 0\n",
    "while n!=0:\n",
    "    rev = (rev*10) + (n%10)\n",
    "    n = n//10\n",
    "print(rev)"
   ]
  },
  {
   "cell_type": "code",
   "execution_count": 6,
   "metadata": {},
   "outputs": [
    {
     "name": "stdout",
     "output_type": "stream",
     "text": [
      "123\n",
      "6\n"
     ]
    }
   ],
   "source": [
    "# print sum of all digits in a given number\n",
    "n = int(input())\n",
    "s = 0\n",
    "while n!=0:\n",
    "    s += n%10\n",
    "    n = n//10\n",
    "print(s)"
   ]
  },
  {
   "cell_type": "code",
   "execution_count": 28,
   "metadata": {},
   "outputs": [
    {
     "name": "stdout",
     "output_type": "stream",
     "text": [
      "asdf123\n",
      "6\n"
     ]
    }
   ],
   "source": [
    "# sum of digits in given string\n",
    "n = input('')\n",
    "i = 0\n",
    "s = 0\n",
    "while i!=len(n):\n",
    "    if n[i].isdigit():\n",
    "        s += int(n[i])\n",
    "    i += 1\n",
    "print(s)"
   ]
  },
  {
   "cell_type": "code",
   "execution_count": 27,
   "metadata": {},
   "outputs": [
    {
     "name": "stdout",
     "output_type": "stream",
     "text": [
      "26\n"
     ]
    }
   ],
   "source": [
    "str1 = \"asdkfjkd1889\"\n",
    "i = 0\n",
    "sum1 = 0 \n",
    "while i<len(str1):\n",
    "    if ord(str1[i])>=48 and ord(str1[i])<=57:\n",
    "        sum1 += int(str1[i])\n",
    "    i += 1\n",
    "print(sum1)"
   ]
  },
  {
   "cell_type": "code",
   "execution_count": 29,
   "metadata": {},
   "outputs": [
    {
     "name": "stdout",
     "output_type": "stream",
     "text": [
      "10\n",
      "1\n",
      "2\n",
      "3\n",
      "4\n",
      "5\n",
      "6\n",
      "7\n",
      "8\n",
      "9\n"
     ]
    }
   ],
   "source": [
    "# print n natural numbers using for loop\n",
    "n = int(input())\n",
    "for i in range(1,n):\n",
    "    print(i)"
   ]
  },
  {
   "cell_type": "code",
   "execution_count": null,
   "metadata": {},
   "outputs": [],
   "source": [
    "# input : abcdefghijklmnopqrstuvwxyz\" width 4 \n",
    "# output : abcd\n",
    "#          efgh ......\n",
    "s = input(\"Enter a string \")\n",
    "width = int(input(\"Enter width\"))\n",
    "for i in range(0,4,)"
   ]
  },
  {
   "cell_type": "code",
   "execution_count": 32,
   "metadata": {},
   "outputs": [
    {
     "name": "stdout",
     "output_type": "stream",
     "text": [
      "bad Water\n",
      "b W\n",
      "a a\n",
      "d t\n",
      "* e\n",
      "* r\n"
     ]
    }
   ],
   "source": [
    "a = input()\n",
    "l = a.split();\n",
    "i=0;\n",
    "while i!=len(l[0]):\n",
    "    print(l[0][i],l[1][i])\n",
    "    i += 1\n",
    "while i!=len(l[1]):\n",
    "    print(\"*\",l[1][i])\n",
    "    i +=1"
   ]
  },
  {
   "cell_type": "code",
   "execution_count": 1,
   "metadata": {},
   "outputs": [
    {
     "name": "stdout",
     "output_type": "stream",
     "text": [
      "hsjkfis bdjifb bdhfbkjsdnfisgi\n",
      "['hsjkfis', 'bdjifb', 'bdhfbkjsdnfisgi']\n",
      "hsjkfis\n",
      "bdhfbkjsdnfisgi\n",
      "bdhfbkjsdnfisgi\n"
     ]
    }
   ],
   "source": [
    "n = input()\n",
    "l1 = n.split()\n",
    "print(l1)\n",
    "maxLen = 0\n",
    "i = 0\n",
    "while i!= len(l1):\n",
    "    if maxLen< len(l1[i]):\n",
    "        maxLen = len(l1[i])\n",
    "        tem = l1[i]\n",
    "    i += 1\n",
    "print(tem)"
   ]
  },
  {
   "cell_type": "code",
   "execution_count": 1,
   "metadata": {},
   "outputs": [
    {
     "name": "stdout",
     "output_type": "stream",
     "text": [
      "Enter a filename: Asbestos\n"
     ]
    },
    {
     "ename": "FileNotFoundError",
     "evalue": "[Errno 2] No such file or directory: 'Asbestos'",
     "output_type": "error",
     "traceback": [
      "\u001b[1;31m---------------------------------------------------------------------------\u001b[0m",
      "\u001b[1;31mFileNotFoundError\u001b[0m                         Traceback (most recent call last)",
      "\u001b[1;32m<ipython-input-1-20c22d3403ce>\u001b[0m in \u001b[0;36m<module>\u001b[1;34m\u001b[0m\n\u001b[0;32m      7\u001b[0m \u001b[1;33m\u001b[0m\u001b[0m\n\u001b[0;32m      8\u001b[0m \u001b[0mfilename\u001b[0m \u001b[1;33m=\u001b[0m \u001b[0minput\u001b[0m\u001b[1;33m(\u001b[0m\u001b[1;34m\"Enter a filename: \"\u001b[0m\u001b[1;33m)\u001b[0m\u001b[1;33m\u001b[0m\u001b[1;33m\u001b[0m\u001b[0m\n\u001b[1;32m----> 9\u001b[1;33m \u001b[1;32mwith\u001b[0m \u001b[0mopen\u001b[0m\u001b[1;33m(\u001b[0m\u001b[0mfilename\u001b[0m\u001b[1;33m)\u001b[0m \u001b[1;32mas\u001b[0m \u001b[0mf\u001b[0m\u001b[1;33m:\u001b[0m\u001b[1;33m\u001b[0m\u001b[1;33m\u001b[0m\u001b[0m\n\u001b[0m\u001b[0;32m     10\u001b[0m     \u001b[0mtext\u001b[0m \u001b[1;33m=\u001b[0m \u001b[0mf\u001b[0m\u001b[1;33m.\u001b[0m\u001b[0mread\u001b[0m\u001b[1;33m(\u001b[0m\u001b[1;33m)\u001b[0m\u001b[1;33m\u001b[0m\u001b[1;33m\u001b[0m\u001b[0m\n\u001b[0;32m     11\u001b[0m \u001b[1;33m\u001b[0m\u001b[0m\n",
      "\u001b[1;31mFileNotFoundError\u001b[0m: [Errno 2] No such file or directory: 'Asbestos'"
     ]
    }
   ],
   "source": [
    "def count_char(text, char):\n",
    "    count = 0\n",
    "    for c in text:\n",
    "        if c == char:\n",
    "            count += 1\n",
    "    return count\n",
    "\n",
    "filename = input(\"Enter a filename: \")\n",
    "with open(filename) as f:\n",
    "    text = f.read()\n",
    "\n",
    "for char in \"abcdefghijklmnopqrstuvwxyz\":\n",
    "    perc = 100 * count_char(text, char) / len(text)\n",
    "    print(\"{0} - {1}%\".format(char, round(perc, 2)))"
   ]
  },
  {
   "cell_type": "code",
   "execution_count": 2,
   "metadata": {},
   "outputs": [
    {
     "name": "stdout",
     "output_type": "stream",
     "text": [
      "a - 4.68%\n",
      "b - 4.94%\n",
      "c - 2.28%\n",
      "d - 0.0%\n",
      "e - 3.8%\n",
      "f - 5.19%\n",
      "g - 8.99%\n",
      "h - 2.53%\n",
      "i - 0.63%\n",
      "j - 0.51%\n",
      "k - 0.51%\n",
      "l - 1.9%\n",
      "m - 0.0%\n",
      "n - 6.2%\n",
      "o - 2.28%\n",
      "p - 1.9%\n",
      "q - 2.03%\n",
      "r - 10.51%\n",
      "s - 1.27%\n",
      "t - 1.39%\n",
      "u - 3.54%\n",
      "v - 6.08%\n",
      "w - 0.0%\n",
      "x - 0.25%\n",
      "y - 3.92%\n",
      "z - 1.65%\n"
     ]
    }
   ],
   "source": [
    "def count_char(text, char):\n",
    "    count = 0\n",
    "    for c in text:\n",
    "        if c == char:\n",
    "            count += 1\n",
    "    return count\n",
    "\n",
    "file = open(\"newfile.txt\", \"w\")\n",
    "file.write(\"\"\"Ornhgvshy vf orggre guna htyl.\n",
    "Rkcyvpvg vf orggre guna vzcyvpvg.\n",
    "Fvzcyr vf orggre guna pbzcyvpngrq.\n",
    "Syng vf orggre guna arfgrq.\n",
    "Fcenfr fv orggre guna qrafr.\n",
    "Ernqnovyvgl pbhagf.\n",
    "Fcrpvny pnfrf nera'g fcrpvny rabthu gb oernx gur ehyrf.\n",
    "Nygubhtu cenpgvpnyvgl orgnf chevgl.\n",
    "Reebef fubhyq arire cnff fvyragyl.\n",
    "Hayrff rkcyvpvgyl fvyraprq.\n",
    "Va gur snpr bs nzovthvgl, ershfr gur grzcgngvba bg thrff.\n",
    "Gurer fubhyq or bar-- naq cersrenoylbayl bar --boivbhf jnl gb qb vg.\n",
    "Nygubhtu gung jnl znl abg or boivbhf ng svefg hayrff lbh'er Qhgpu.\n",
    "Abj vf orggre guna arrire.\n",
    "Nygubhtu arire vf bsgra orggre guna *evtug* abj.\n",
    "Vs gur vzcyrzragngvba vf uneq gb rkcynva, vg'f n onq vqrn.\n",
    "Vs gur vzcyrzragngvba vf rnfl gb rkcynva, vg znl or n tbbq vqrn.\n",
    "Anzrfcnprf ner bar ubaxvat terng vqrn -- yrg'f qb zber bs gubfr!\"\"\")\n",
    "file.close()\n",
    "filename = \"newfile.txt\"\n",
    "with open(filename) as f:\n",
    "    text = f.read()\n",
    "\n",
    "for char in \"abcdefghijklmnopqrstuvwxyz\":\n",
    "    perc = 100 * count_char(text, char) / len(text)\n",
    "    print(\"{0} - {1}%\".format(char, round(perc, 2)))"
   ]
  },
  {
   "cell_type": "code",
   "execution_count": 3,
   "metadata": {},
   "outputs": [
    {
     "name": "stdout",
     "output_type": "stream",
     "text": [
      "44\n"
     ]
    }
   ],
   "source": [
    "nums = (55, 44, 33, 22)\n",
    "print(max(min(nums[:2]), abs(-42)))"
   ]
  },
  {
   "cell_type": "code",
   "execution_count": 12,
   "metadata": {},
   "outputs": [
    {
     "name": "stdout",
     "output_type": "stream",
     "text": [
      "['s', 'sp', 'spa', 'spam']\n"
     ]
    }
   ],
   "source": [
    "def make_word():\n",
    "  word = \"\"\n",
    "  for ch in \"spam\":\n",
    "    word +=ch\n",
    "    yield word\n",
    "\n",
    "print(list(make_word()))"
   ]
  }
 ],
 "metadata": {
  "kernelspec": {
   "display_name": "Python 3",
   "language": "python",
   "name": "python3"
  },
  "language_info": {
   "codemirror_mode": {
    "name": "ipython",
    "version": 3
   },
   "file_extension": ".py",
   "mimetype": "text/x-python",
   "name": "python",
   "nbconvert_exporter": "python",
   "pygments_lexer": "ipython3",
   "version": "3.7.4"
  }
 },
 "nbformat": 4,
 "nbformat_minor": 2
}
