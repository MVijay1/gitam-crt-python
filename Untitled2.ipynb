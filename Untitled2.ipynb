{
 "cells": [
  {
   "cell_type": "markdown",
   "metadata": {},
   "source": [
    "# Collection Types :\n",
    "### 1. List\n",
    "### 2. Tuple\n",
    "### 3. Dictionary"
   ]
  },
  {
   "cell_type": "markdown",
   "metadata": {},
   "source": [
    "- **list** is indexed, ordered, mutable, allows duplicate values.\n"
   ]
  },
  {
   "cell_type": "code",
   "execution_count": 5,
   "metadata": {},
   "outputs": [
    {
     "name": "stdout",
     "output_type": "stream",
     "text": [
      "['name', 23, True, 23, 1400, 400]\n",
      "['name', 23, True, 23, 1400, 400, 34.3, 'reaal']\n",
      "['name', 23, True, 'march', 23, 1400, 400, 34.3, 'reaal']\n",
      "['name', 23, True, 'march', 23, 1400, 400, 34.3, 'reaal', 21, '21Barghav', '20Bharathi', 34567]\n"
     ]
    }
   ],
   "source": [
    "sampleList = [\"name\",23,True,23,1400,400]\n",
    "print(sampleList)\n",
    "sampleList.append(34.3) # to add an elemnt into the list\n",
    "sampleList.append(\"reaal\")\n",
    "print(sampleList)\n",
    "sampleList.insert(3,\"march\")\n",
    "print(sampleList)\n",
    "sampleList.extend([21,\"21Barghav\",\"20Bharathi\",34567]) # to insert multiple iterable values into the list\n",
    "print(sampleList)"
   ]
  },
  {
   "cell_type": "code",
   "execution_count": 9,
   "metadata": {},
   "outputs": [
    {
     "name": "stdout",
     "output_type": "stream",
     "text": [
      "['name', 23, True, 23, 1400]\n",
      "1400\n",
      "['name', True, 23]\n"
     ]
    }
   ],
   "source": [
    "# removing elements from the list --> pop(),remove)()\n",
    "sampleList = [\"name\",23,True,23,1400,400]\n",
    "del sampleList[-1]\n",
    "print(sampleList)\n",
    "r = sampleList.pop()\n",
    "print(r)\n",
    "sampleList.remove(23)\n",
    "print(sampleList)"
   ]
  },
  {
   "cell_type": "code",
   "execution_count": 5,
   "metadata": {},
   "outputs": [
    {
     "name": "stdout",
     "output_type": "stream",
     "text": [
      "['name', 23, True, 23]\n",
      "[23, True, 23, 'name']\n"
     ]
    }
   ],
   "source": [
    "sampleList.reverse()\n",
    "print(sampleList)\n",
    "sampleList.reverse()\n",
    "print(sampleList)"
   ]
  },
  {
   "cell_type": "code",
   "execution_count": 6,
   "metadata": {},
   "outputs": [
    {
     "ename": "TypeError",
     "evalue": "'<' not supported between instances of 'str' and 'int'",
     "output_type": "error",
     "traceback": [
      "\u001b[1;31m---------------------------------------------------------------------------\u001b[0m",
      "\u001b[1;31mTypeError\u001b[0m                                 Traceback (most recent call last)",
      "\u001b[1;32m<ipython-input-6-316cf7f24da9>\u001b[0m in \u001b[0;36m<module>\u001b[1;34m\u001b[0m\n\u001b[1;32m----> 1\u001b[1;33m \u001b[0msampleList\u001b[0m\u001b[1;33m.\u001b[0m\u001b[0msort\u001b[0m\u001b[1;33m(\u001b[0m\u001b[1;33m)\u001b[0m\u001b[1;33m\u001b[0m\u001b[1;33m\u001b[0m\u001b[0m\n\u001b[0m\u001b[0;32m      2\u001b[0m \u001b[0mprint\u001b[0m\u001b[1;33m(\u001b[0m\u001b[0msampleList\u001b[0m\u001b[1;33m)\u001b[0m\u001b[1;33m\u001b[0m\u001b[1;33m\u001b[0m\u001b[0m\n",
      "\u001b[1;31mTypeError\u001b[0m: '<' not supported between instances of 'str' and 'int'"
     ]
    }
   ],
   "source": [
    "sampleList.sort()\n",
    "print(sampleList)"
   ]
  },
  {
   "cell_type": "code",
   "execution_count": 17,
   "metadata": {},
   "outputs": [
    {
     "name": "stdout",
     "output_type": "stream",
     "text": [
      "None\n",
      "[1, 3, 200, 4200, 247500]\n",
      "[247500, 4200, 200, 3, 1]\n"
     ]
    }
   ],
   "source": [
    "list1 = [1,200,3,4200,247500]\n",
    "print(list1.sort())\n",
    "list1.sort()\n",
    "print(list1)\n",
    "list1.sort(reverse=True)\n",
    "print(list1)"
   ]
  },
  {
   "cell_type": "code",
   "execution_count": 19,
   "metadata": {},
   "outputs": [
    {
     "name": "stdout",
     "output_type": "stream",
     "text": [
      "[247500, 4200, 200, 3, 1] [247500, 4200, 200, 3, 1] [247500, 4200, 200, 3, 1]\n",
      "[247500, 4200, 200] [247500, 4200, 200] [247500, 4200, 200, 3]\n"
     ]
    }
   ],
   "source": [
    "list2 = list1\n",
    "list3 = list1.copy()\n",
    "print(list1,list2,list3)\n",
    "del list2[-1]\n",
    "list3.remove(1)\n",
    "list1.pop()\n",
    "print(list1,list2,list3)"
   ]
  },
  {
   "cell_type": "markdown",
   "metadata": {},
   "source": [
    "## Accept three subject marks of the student and store values in list and return total marks of the student"
   ]
  },
  {
   "cell_type": "code",
   "execution_count": 36,
   "metadata": {},
   "outputs": [
    {
     "name": "stdout",
     "output_type": "stream",
     "text": [
      " Enter number of subjetc6\n",
      "63\n",
      "59\n",
      "70\n",
      "98\n",
      "100\n",
      "45\n",
      "sum =  435\n"
     ]
    }
   ],
   "source": [
    "sub = int(input(\" Enter number of subjetc\"))\n",
    "sum = 0\n",
    "for i in range(sub):\n",
    "    sum += int(input())\n",
    "print(\"sum = \",sum)"
   ]
  },
  {
   "cell_type": "code",
   "execution_count": 39,
   "metadata": {},
   "outputs": [
    {
     "name": "stdout",
     "output_type": "stream",
     "text": [
      "99\n",
      "50\n"
     ]
    }
   ],
   "source": [
    "aList = [12,23,1,45,50,99,10]\n",
    "print(max(aList))\n",
    "aList.sort()\n",
    "print(aList[-2])"
   ]
  },
  {
   "cell_type": "markdown",
   "metadata": {},
   "source": [
    "- **Tuple** --> indexed, ordered, allows duplicate values, immutable"
   ]
  },
  {
   "cell_type": "code",
   "execution_count": 41,
   "metadata": {},
   "outputs": [
    {
     "name": "stdout",
     "output_type": "stream",
     "text": [
      "(23, 45, 33, 67, 34)\n",
      "[23, 45, 33, 67, 34]\n",
      "[23, 45, 33, 67, 34, 900000000] (23, 45, 33, 67, 34, 900000000)\n"
     ]
    }
   ],
   "source": [
    "t1 = (23,45,33,67,34)\n",
    "print(t1)\n",
    "l1 = list(t1)\n",
    "print(l1)\n",
    "l1.append(900000000)\n",
    "t1 = tuple(l1)\n",
    "print(l1,t1)"
   ]
  },
  {
   "cell_type": "markdown",
   "metadata": {},
   "source": [
    "- **Dictionary** \n",
    "- *Syntax* dict1 = {key1:value1,key2:value,....}\n",
    "- **Rules for key** :\n",
    "- 1. Keys should be ***unique***\n",
    "- 2. keys should be ***immutable***(number, string, tuple)"
   ]
  },
  {
   "cell_type": "code",
   "execution_count": 57,
   "metadata": {},
   "outputs": [
    {
     "name": "stdout",
     "output_type": "stream",
     "text": [
      "{'name': 'Bharathi', 'roll no': 1530, 'course': 'cse', 'ph no': 963850741}\n"
     ]
    }
   ],
   "source": [
    "dict1 = {\"name\": \"vijay\",\"roll no\":1530,\"course\":\"cse\",\"name\":\"Bharathi\"}\n",
    "dict1[\"ph no\"] = 963850741\n",
    "print(dict1)"
   ]
  },
  {
   "cell_type": "code",
   "execution_count": 58,
   "metadata": {},
   "outputs": [
    {
     "data": {
      "text/plain": [
       "'Bharathi'"
      ]
     },
     "execution_count": 58,
     "metadata": {},
     "output_type": "execute_result"
    }
   ],
   "source": [
    "dict1[\"name\"]"
   ]
  },
  {
   "cell_type": "code",
   "execution_count": 59,
   "metadata": {},
   "outputs": [
    {
     "name": "stdout",
     "output_type": "stream",
     "text": [
      "{'name': 'Bharathi', 'roll no': 1530, 'course': 'cse', 'ph no': 963850741}\n"
     ]
    }
   ],
   "source": [
    "print(dict1)"
   ]
  },
  {
   "cell_type": "code",
   "execution_count": 60,
   "metadata": {},
   "outputs": [
    {
     "name": "stdout",
     "output_type": "stream",
     "text": [
      "{'roll no': 1530, 'course': 'cse', 'ph no': 963850741}\n"
     ]
    }
   ],
   "source": [
    "del dict1[\"name\"]\n",
    "print(dict1)"
   ]
  },
  {
   "cell_type": "code",
   "execution_count": null,
   "metadata": {},
   "outputs": [],
   "source": []
  }
 ],
 "metadata": {
  "kernelspec": {
   "display_name": "Python 3",
   "language": "python",
   "name": "python3"
  },
  "language_info": {
   "codemirror_mode": {
    "name": "ipython",
    "version": 3
   },
   "file_extension": ".py",
   "mimetype": "text/x-python",
   "name": "python",
   "nbconvert_exporter": "python",
   "pygments_lexer": "ipython3",
   "version": "3.7.4"
  }
 },
 "nbformat": 4,
 "nbformat_minor": 2
}
